{
 "cells": [
  {
   "cell_type": "markdown",
   "metadata": {},
   "source": [
    "# <div align=\"center\">*Acoustic Guitar Classifier*</div>"
   ]
  },
  {
   "cell_type": "markdown",
   "metadata": {},
   "source": [
    "<div align=\"center\">Want to know which kind of acoustic guitar you have? This machine learning classifier can detect dreadnought, jumbo, classical and resonator guitars with 87% accuracy. If you `upload a clear and complete picture` of your guitar, you increase the chance that the classifier will get it right.</div>"
   ]
  },
  {
   "cell_type": "markdown",
   "metadata": {},
   "source": [
    "<div align=\"center\">Simply try it out :-)</div>"
   ]
  },
  {
   "cell_type": "code",
   "execution_count": 1,
   "metadata": {},
   "outputs": [],
   "source": [
    "# To turn your notebook into a webapp, install voila which will only show markdown and outputs and hide the rest\n",
    "\n",
    "# Install voila library and application\n",
    "#!pip install voila\n",
    "\n",
    "# Connect voila to this notebook\n",
    "#!jupyter serverextension enable voila --sys-prefix"
   ]
  },
  {
   "cell_type": "code",
   "execution_count": 1,
   "metadata": {},
   "outputs": [],
   "source": [
    "# Import only the necessary libraries for deployment\n",
    "from utils import *\n",
    "from fastai2.vision.widgets import *"
   ]
  },
  {
   "cell_type": "code",
   "execution_count": 2,
   "metadata": {},
   "outputs": [],
   "source": [
    "# Set the path to wherever you have stored your trained classifier\n",
    "path = Path()"
   ]
  },
  {
   "cell_type": "code",
   "execution_count": 3,
   "metadata": {},
   "outputs": [],
   "source": [
    "# Load the trained classifier\n",
    "learn_inf = load_learner(path/'export.pkl')"
   ]
  },
  {
   "cell_type": "code",
   "execution_count": 4,
   "metadata": {},
   "outputs": [],
   "source": [
    "# Define all iPython widgets that you want to use\n",
    "\n",
    "# We need a button for uploading images\n",
    "btn_upload = widgets.FileUpload()\n",
    "# A button to run the classification\n",
    "btn_run = widgets.Button(description='Classify image')\n",
    "# Another button to show all predictions\n",
    "btn_show = widgets.Button(description='Show others')\n",
    "# We want to show the uploaded image as an output\n",
    "out_pl = widgets.Output()\n",
    "# And finally we need to display the prediction as a label\n",
    "lbl_pred = widgets.Label()\n",
    "# Add more labels for other predictions\n",
    "lbl_pred_a = widgets.Label()\n",
    "lbl_pred_b = widgets.Label()\n",
    "lbl_pred_c = widgets.Label()"
   ]
  },
  {
   "cell_type": "code",
   "execution_count": 5,
   "metadata": {},
   "outputs": [],
   "source": [
    "# Create a string to expand the label below\n",
    "lbl_ext = ' guitar'"
   ]
  },
  {
   "cell_type": "code",
   "execution_count": 6,
   "metadata": {},
   "outputs": [],
   "source": [
    "# Since the run button doesn't do anything, we need to define an event handler \n",
    "def on_click_classify(change):\n",
    "    # Turn the uploaded image into a PIL image file\n",
    "    img = PILImage.create(btn_upload.data[-1])\n",
    "    # Clear all previous outputs\n",
    "    out_pl.clear_output()\n",
    "    # Display the uploaded image\n",
    "    with out_pl: display(img.to_thumb(224,224))\n",
    "    # Run the classifier on the image\n",
    "    pred,pred_idx,probs = learn_inf.predict(img)\n",
    "    # Print out the classification results\n",
    "    lbl_pred.value = f'Prediction: {(pred + lbl_ext).title()}; Probability: {probs[pred_idx]:.04f}'"
   ]
  },
  {
   "cell_type": "code",
   "execution_count": 7,
   "metadata": {},
   "outputs": [],
   "source": [
    "# Attach the event handler to the run button\n",
    "btn_run.on_click(on_click_classify)"
   ]
  },
  {
   "cell_type": "code",
   "execution_count": 8,
   "metadata": {},
   "outputs": [],
   "source": [
    "# Define an event handler for the \n",
    "def on_click_show_others(change):\n",
    "    # Turn the uploaded image into a PIL image file\n",
    "    img = PILImage.create(btn_upload.data[-1])\n",
    "    # Run the classifier on the image\n",
    "    pred,pred_idx,probs = learn_inf.predict(img)\n",
    "    # Zip class names and probabilities, convert into a dataframe and sort by descending probability\n",
    "    res = pd.DataFrame(zip(learn_inf.dls.vocab, probs.numpy())).sort_values(by=1, ascending=False)\n",
    "    # Print out the predicted probabilities for the three remaining classes\n",
    "    lbl_pred_a.value = f'{(res.iloc[1,0] + lbl_ext).title()}: {res.iloc[1,1]:.06f}'\n",
    "    lbl_pred_b.value = f'{(res.iloc[2,0] + lbl_ext).title()}: {res.iloc[2,1]:.06f}'\n",
    "    lbl_pred_c.value = f'{(res.iloc[3,0] + lbl_ext).title()}: {res.iloc[3,1]:.06f}'"
   ]
  },
  {
   "cell_type": "code",
   "execution_count": 9,
   "metadata": {},
   "outputs": [],
   "source": [
    "# Attach the event handler to the show others button\n",
    "btn_show.on_click(on_click_show_others)"
   ]
  },
  {
   "cell_type": "code",
   "execution_count": 10,
   "metadata": {},
   "outputs": [
    {
     "data": {
      "application/vnd.jupyter.widget-view+json": {
       "model_id": "76e2aff585094290bd9b701080e085be",
       "version_major": 2,
       "version_minor": 0
      },
      "text/plain": [
       "VBox(children=(Label(value='Upload a picture of your guitar!'), FileUpload(value={}, description='Upload'), Bu…"
      ]
     },
     "metadata": {},
     "output_type": "display_data"
    },
    {
     "data": {
      "text/html": [],
      "text/plain": [
       "<IPython.core.display.HTML object>"
      ]
     },
     "metadata": {},
     "output_type": "display_data"
    },
    {
     "data": {
      "text/html": [],
      "text/plain": [
       "<IPython.core.display.HTML object>"
      ]
     },
     "metadata": {},
     "output_type": "display_data"
    }
   ],
   "source": [
    "# Put everything together in a virtual box (note that the order of the components matters)\n",
    "VBox([widgets.Label('Upload a picture of your guitar!'), \n",
    "      btn_upload, btn_run, out_pl, lbl_pred, btn_show, lbl_pred_a, lbl_pred_b, lbl_pred_c], \n",
    "      layout=Layout(align_items='center'))"
   ]
  }
 ],
 "metadata": {
  "kernelspec": {
   "display_name": "Python 3",
   "language": "python",
   "name": "python3"
  },
  "language_info": {
   "codemirror_mode": {
    "name": "ipython",
    "version": 3
   },
   "file_extension": ".py",
   "mimetype": "text/x-python",
   "name": "python",
   "nbconvert_exporter": "python",
   "pygments_lexer": "ipython3",
   "version": "3.7.6"
  }
 },
 "nbformat": 4,
 "nbformat_minor": 4
}
