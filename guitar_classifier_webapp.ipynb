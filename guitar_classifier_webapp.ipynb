{
 "cells": [
  {
   "cell_type": "markdown",
   "metadata": {},
   "source": [
    "# <div align=\"center\">Acoustic Guitar Classifier</div>"
   ]
  },
  {
   "cell_type": "markdown",
   "metadata": {},
   "source": [
    "<div align=\"center\">Want to know which kind of acoustic guitar you have? If you're not a guitar enthusiast, it can be tricky to distinguish between all the different types. I have built this simple app prototype which is powered by machine learning to automatically classify images of four types of acoustic guitars. The underlying model can detect two types of western guitars, i.e. the common dreadnought and the larger jumbo, classical guitars and a very specific guitar type called resonator guitar. If you upload a clear and complete picture of your guitar, you increase the chance that the classifier will get it right.</div>"
   ]
  },
  {
   "cell_type": "markdown",
   "metadata": {},
   "source": [
    "<div align=\"center\">Simply try it out yourself :-) </div>"
   ]
  },
  {
   "cell_type": "code",
   "execution_count": 12,
   "metadata": {},
   "outputs": [],
   "source": [
    "# To turn your notebook into a webapp, install voila which will only show markdown and outputs and hide everything else\n",
    "\n",
    "# Install voila library \n",
    "#!pip install voila\n",
    "\n",
    "# Connect voila to this notebook\n",
    "#!jupyter serverextension enable voila --sys-prefix"
   ]
  },
  {
   "cell_type": "code",
   "execution_count": 4,
   "metadata": {},
   "outputs": [],
   "source": [
    "# Import only the necessary libraries for deployment\n",
    "from utils import *\n",
    "from fastai2.vision.widgets import *"
   ]
  },
  {
   "cell_type": "code",
   "execution_count": 5,
   "metadata": {},
   "outputs": [],
   "source": [
    "# Set the path to wherever you have stored your trained classifier\n",
    "path = Path()"
   ]
  },
  {
   "cell_type": "code",
   "execution_count": 6,
   "metadata": {},
   "outputs": [],
   "source": [
    "# Load the trained classifier\n",
    "learn_inf = load_learner(path/'export.pkl')"
   ]
  },
  {
   "cell_type": "code",
   "execution_count": 7,
   "metadata": {},
   "outputs": [],
   "source": [
    "# Define all iPython widgets that you want to use\n",
    "\n",
    "# We need a button for uploading images\n",
    "btn_upload = widgets.FileUpload()\n",
    "# A button to run the classification\n",
    "btn_run = widgets.Button(description='Classify image')\n",
    "# Another button to show the other predictions\n",
    "btn_show = widgets.Button(description='Show others')\n",
    "# We want to show the uploaded image as an output\n",
    "out_pl = widgets.Output()\n",
    "# And finally we need to display the prediction as a label\n",
    "lbl_pred = widgets.Label()\n",
    "# Add more labels for the other predictions\n",
    "lbl_pred_a = widgets.Label()\n",
    "lbl_pred_b = widgets.Label()\n",
    "lbl_pred_c = widgets.Label()"
   ]
  },
  {
   "cell_type": "code",
   "execution_count": 8,
   "metadata": {},
   "outputs": [],
   "source": [
    "# Create a string to expand the label below\n",
    "lbl_ext = ' guitar'"
   ]
  },
  {
   "cell_type": "code",
   "execution_count": 9,
   "metadata": {},
   "outputs": [],
   "source": [
    "# Since the run button doesn't do anything by itself, we need to define an event handler \n",
    "def on_click_classify(change):\n",
    "    # Turn the uploaded image into a PIL image file\n",
    "    img = PILImage.create(btn_upload.data[-1])\n",
    "    # Clear all previous outputs\n",
    "    out_pl.clear_output()\n",
    "    # Display the uploaded image with 224x224 pixels\n",
    "    with out_pl: display(img.to_thumb(224,224))\n",
    "    # Run the classifier on the image\n",
    "    pred,pred_idx,probs = learn_inf.predict(img)\n",
    "    # Print out the classification results\n",
    "    lbl_pred.value = f'Prediction: {(pred + lbl_ext).title()}; Probability: {probs[pred_idx]:.06f}'\n",
    "    # Reset other labels when making a new prediction\n",
    "    lbl_pred_a.value = ''\n",
    "    lbl_pred_b.value = ''\n",
    "    lbl_pred_c.value = ''"
   ]
  },
  {
   "cell_type": "code",
   "execution_count": 10,
   "metadata": {},
   "outputs": [],
   "source": [
    "# Attach the event handler to the run button\n",
    "btn_run.on_click(on_click_classify)"
   ]
  },
  {
   "cell_type": "code",
   "execution_count": 11,
   "metadata": {},
   "outputs": [],
   "source": [
    "# Define an event handler for the show others button\n",
    "def on_click_show_others(change):\n",
    "    # Turn the uploaded image into a PIL image file\n",
    "    img = PILImage.create(btn_upload.data[-1])\n",
    "    # Run the classifier on the image\n",
    "    pred,pred_idx,probs = learn_inf.predict(img)\n",
    "    # Get predicted probabilities for the other classes\n",
    "    probs = probs[probs!=probs[pred_idx]]\n",
    "    # Get names for the other classes\n",
    "    voc = list(learn_inf.dls.vocab)\n",
    "    voc.remove(pred)\n",
    "    # Sort probabilities and corresponding vocab indices\n",
    "    res = sorted([(v,i) for i,v in enumerate(probs)], reverse=True)\n",
    "    # Print out the predicted probabilities for the three other classes\n",
    "    lbl_pred_a.value = f'{(voc[res[0][1]] + lbl_ext).title()}: {res[0][0]:.06f}'\n",
    "    lbl_pred_b.value = f'{(voc[res[1][1]] + lbl_ext).title()}: {res[1][0]:.06f}'\n",
    "    lbl_pred_c.value = f'{(voc[res[2][1]] + lbl_ext).title()}: {res[2][0]:.06f}'"
   ]
  },
  {
   "cell_type": "code",
   "execution_count": 12,
   "metadata": {},
   "outputs": [],
   "source": [
    "# Attach the event handler to the show others button\n",
    "btn_show.on_click(on_click_show_others)"
   ]
  },
  {
   "cell_type": "code",
   "execution_count": 13,
   "metadata": {},
   "outputs": [
    {
     "data": {
      "application/vnd.jupyter.widget-view+json": {
       "model_id": "a26367eb379c47d984c2bbf56cea136c",
       "version_major": 2,
       "version_minor": 0
      },
      "text/plain": [
       "VBox(children=(Label(value='Upload a picture of your guitar!'), FileUpload(value={}, description='Upload'), Bu…"
      ]
     },
     "metadata": {},
     "output_type": "display_data"
    }
   ],
   "source": [
    "# Put everything together in a virtual box (note that the order of the components matters)\n",
    "VBox([widgets.Label('Upload a picture of your guitar!'), \n",
    "      btn_upload, btn_run, out_pl, lbl_pred, btn_show, lbl_pred_a, lbl_pred_b, lbl_pred_c], \n",
    "      layout=Layout(align_items='center'))"
   ]
  },
  {
   "cell_type": "markdown",
   "metadata": {},
   "source": [
    "For examples click here:\n",
    "- [Dreadnought guitar](https://www.bing.com/images/search?q=dreadnought+guitar&scope=images&form=QBLH&sp=-1&pq=dreadnought+guitar&sc=6-18&qs=n&sk=&cvid=361D728C992E4FDA98D42C0202504A4C)\n",
    "- [Jumbo guitar](https://www.bing.com/images/search?q=jumbo%20guitar&qs=n&form=QBIR&scope=images&sp=-1&pq=jumbo%20guitar&sc=8-12&sk=&cvid=B56651D5293C4DE0B54CD4DF290E8906)\n",
    "- [Classical guitar](https://www.bing.com/images/search?q=classical%20guitar&qs=n&form=QBIR&scope=images&sp=-1&pq=classical%20guitar&sc=8-16&sk=&cvid=2A870A59F623457986FFB86383DB3A08)\n",
    "- [Resonator guitar](https://www.bing.com/images/search?q=resonator%20guitar&qs=n&form=QBIR&scope=images&sp=-1&pq=resonato%20guitar&sc=8-15&sk=&cvid=0E2335DE50574F0F92BDFE8671087845)"
   ]
  }
 ],
 "metadata": {
  "kernelspec": {
   "display_name": "Python 3",
   "language": "python",
   "name": "python3"
  },
  "language_info": {
   "codemirror_mode": {
    "name": "ipython",
    "version": 3
   },
   "file_extension": ".py",
   "mimetype": "text/x-python",
   "name": "python",
   "nbconvert_exporter": "python",
   "pygments_lexer": "ipython3",
   "version": "3.7.6"
  }
 },
 "nbformat": 4,
 "nbformat_minor": 4
}
